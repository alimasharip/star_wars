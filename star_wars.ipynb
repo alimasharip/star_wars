{
 "cells": [
  {
   "cell_type": "markdown",
   "metadata": {},
   "source": [
    "# Guided Project: Star Wars Survey \n",
    "\n",
    "For this project, we'll be cleaning and exploring the data set from FiveThirtyEight. They  became interested in answering some questions about Star Wars fans. In particular, they wondered: **does the rest of America realize that “The Empire Strikes Back” is clearly the best of the bunch?**\n",
    "\n",
    "There are several other columns containing answers to questions about the Star Wars movies. For some questions, the respondent had to check one or more boxes. This type of data is difficult to represent in columnar format. As a result, this data set needs a lot of cleaning.\n"
   ]
  },
  {
   "cell_type": "markdown",
   "metadata": {},
   "source": [
    "## Read in the data and explore column names"
   ]
  },
  {
   "cell_type": "code",
   "execution_count": 153,
   "metadata": {},
   "outputs": [],
   "source": [
    "import pandas as pd \n",
    "import numpy as np \n",
    "import matplotlib.pyplot as plt \n",
    "\n",
    "%matplotlib inline\n",
    "\n",
    "\n",
    "\n",
    "star_wars = pd.read_csv(r'C:\\Users\\Alima\\OneDrive\\Рабочий стол\\PYTHON\\Projects\\Star Wars Project\\StarWars.csv', encoding='ISO-8859-1')"
   ]
  },
  {
   "cell_type": "code",
   "execution_count": 154,
   "metadata": {},
   "outputs": [
    {
     "data": {
      "text/html": [
       "<div>\n",
       "<style scoped>\n",
       "    .dataframe tbody tr th:only-of-type {\n",
       "        vertical-align: middle;\n",
       "    }\n",
       "\n",
       "    .dataframe tbody tr th {\n",
       "        vertical-align: top;\n",
       "    }\n",
       "\n",
       "    .dataframe thead th {\n",
       "        text-align: right;\n",
       "    }\n",
       "</style>\n",
       "<table border=\"1\" class=\"dataframe\">\n",
       "  <thead>\n",
       "    <tr style=\"text-align: right;\">\n",
       "      <th></th>\n",
       "      <th>RespondentID</th>\n",
       "      <th>Have you seen any of the 6 films in the Star Wars franchise?</th>\n",
       "      <th>Do you consider yourself to be a fan of the Star Wars film franchise?</th>\n",
       "      <th>Which of the following Star Wars films have you seen? Please select all that apply.</th>\n",
       "      <th>Unnamed: 4</th>\n",
       "      <th>Unnamed: 5</th>\n",
       "      <th>Unnamed: 6</th>\n",
       "      <th>Unnamed: 7</th>\n",
       "      <th>Unnamed: 8</th>\n",
       "      <th>Please rank the Star Wars films in order of preference with 1 being your favorite film in the franchise and 6 being your least favorite film.</th>\n",
       "      <th>...</th>\n",
       "      <th>Unnamed: 28</th>\n",
       "      <th>Which character shot first?</th>\n",
       "      <th>Are you familiar with the Expanded Universe?</th>\n",
       "      <th>Do you consider yourself to be a fan of the Expanded Universe?æ</th>\n",
       "      <th>Do you consider yourself to be a fan of the Star Trek franchise?</th>\n",
       "      <th>Gender</th>\n",
       "      <th>Age</th>\n",
       "      <th>Household Income</th>\n",
       "      <th>Education</th>\n",
       "      <th>Location (Census Region)</th>\n",
       "    </tr>\n",
       "  </thead>\n",
       "  <tbody>\n",
       "    <tr>\n",
       "      <th>0</th>\n",
       "      <td>NaN</td>\n",
       "      <td>Response</td>\n",
       "      <td>Response</td>\n",
       "      <td>Star Wars: Episode I  The Phantom Menace</td>\n",
       "      <td>Star Wars: Episode II  Attack of the Clones</td>\n",
       "      <td>Star Wars: Episode III  Revenge of the Sith</td>\n",
       "      <td>Star Wars: Episode IV  A New Hope</td>\n",
       "      <td>Star Wars: Episode V The Empire Strikes Back</td>\n",
       "      <td>Star Wars: Episode VI Return of the Jedi</td>\n",
       "      <td>Star Wars: Episode I  The Phantom Menace</td>\n",
       "      <td>...</td>\n",
       "      <td>Yoda</td>\n",
       "      <td>Response</td>\n",
       "      <td>Response</td>\n",
       "      <td>Response</td>\n",
       "      <td>Response</td>\n",
       "      <td>Response</td>\n",
       "      <td>Response</td>\n",
       "      <td>Response</td>\n",
       "      <td>Response</td>\n",
       "      <td>Response</td>\n",
       "    </tr>\n",
       "    <tr>\n",
       "      <th>1</th>\n",
       "      <td>3.292880e+09</td>\n",
       "      <td>Yes</td>\n",
       "      <td>Yes</td>\n",
       "      <td>Star Wars: Episode I  The Phantom Menace</td>\n",
       "      <td>Star Wars: Episode II  Attack of the Clones</td>\n",
       "      <td>Star Wars: Episode III  Revenge of the Sith</td>\n",
       "      <td>Star Wars: Episode IV  A New Hope</td>\n",
       "      <td>Star Wars: Episode V The Empire Strikes Back</td>\n",
       "      <td>Star Wars: Episode VI Return of the Jedi</td>\n",
       "      <td>3</td>\n",
       "      <td>...</td>\n",
       "      <td>Very favorably</td>\n",
       "      <td>I don't understand this question</td>\n",
       "      <td>Yes</td>\n",
       "      <td>No</td>\n",
       "      <td>No</td>\n",
       "      <td>Male</td>\n",
       "      <td>18-29</td>\n",
       "      <td>NaN</td>\n",
       "      <td>High school degree</td>\n",
       "      <td>South Atlantic</td>\n",
       "    </tr>\n",
       "    <tr>\n",
       "      <th>2</th>\n",
       "      <td>3.292880e+09</td>\n",
       "      <td>No</td>\n",
       "      <td>NaN</td>\n",
       "      <td>NaN</td>\n",
       "      <td>NaN</td>\n",
       "      <td>NaN</td>\n",
       "      <td>NaN</td>\n",
       "      <td>NaN</td>\n",
       "      <td>NaN</td>\n",
       "      <td>NaN</td>\n",
       "      <td>...</td>\n",
       "      <td>NaN</td>\n",
       "      <td>NaN</td>\n",
       "      <td>NaN</td>\n",
       "      <td>NaN</td>\n",
       "      <td>Yes</td>\n",
       "      <td>Male</td>\n",
       "      <td>18-29</td>\n",
       "      <td>$0 - $24,999</td>\n",
       "      <td>Bachelor degree</td>\n",
       "      <td>West South Central</td>\n",
       "    </tr>\n",
       "    <tr>\n",
       "      <th>3</th>\n",
       "      <td>3.292765e+09</td>\n",
       "      <td>Yes</td>\n",
       "      <td>No</td>\n",
       "      <td>Star Wars: Episode I  The Phantom Menace</td>\n",
       "      <td>Star Wars: Episode II  Attack of the Clones</td>\n",
       "      <td>Star Wars: Episode III  Revenge of the Sith</td>\n",
       "      <td>NaN</td>\n",
       "      <td>NaN</td>\n",
       "      <td>NaN</td>\n",
       "      <td>1</td>\n",
       "      <td>...</td>\n",
       "      <td>Unfamiliar (N/A)</td>\n",
       "      <td>I don't understand this question</td>\n",
       "      <td>No</td>\n",
       "      <td>NaN</td>\n",
       "      <td>No</td>\n",
       "      <td>Male</td>\n",
       "      <td>18-29</td>\n",
       "      <td>$0 - $24,999</td>\n",
       "      <td>High school degree</td>\n",
       "      <td>West North Central</td>\n",
       "    </tr>\n",
       "    <tr>\n",
       "      <th>4</th>\n",
       "      <td>3.292763e+09</td>\n",
       "      <td>Yes</td>\n",
       "      <td>Yes</td>\n",
       "      <td>Star Wars: Episode I  The Phantom Menace</td>\n",
       "      <td>Star Wars: Episode II  Attack of the Clones</td>\n",
       "      <td>Star Wars: Episode III  Revenge of the Sith</td>\n",
       "      <td>Star Wars: Episode IV  A New Hope</td>\n",
       "      <td>Star Wars: Episode V The Empire Strikes Back</td>\n",
       "      <td>Star Wars: Episode VI Return of the Jedi</td>\n",
       "      <td>5</td>\n",
       "      <td>...</td>\n",
       "      <td>Very favorably</td>\n",
       "      <td>I don't understand this question</td>\n",
       "      <td>No</td>\n",
       "      <td>NaN</td>\n",
       "      <td>Yes</td>\n",
       "      <td>Male</td>\n",
       "      <td>18-29</td>\n",
       "      <td>$100,000 - $149,999</td>\n",
       "      <td>Some college or Associate degree</td>\n",
       "      <td>West North Central</td>\n",
       "    </tr>\n",
       "    <tr>\n",
       "      <th>5</th>\n",
       "      <td>3.292731e+09</td>\n",
       "      <td>Yes</td>\n",
       "      <td>Yes</td>\n",
       "      <td>Star Wars: Episode I  The Phantom Menace</td>\n",
       "      <td>Star Wars: Episode II  Attack of the Clones</td>\n",
       "      <td>Star Wars: Episode III  Revenge of the Sith</td>\n",
       "      <td>Star Wars: Episode IV  A New Hope</td>\n",
       "      <td>Star Wars: Episode V The Empire Strikes Back</td>\n",
       "      <td>Star Wars: Episode VI Return of the Jedi</td>\n",
       "      <td>5</td>\n",
       "      <td>...</td>\n",
       "      <td>Somewhat favorably</td>\n",
       "      <td>Greedo</td>\n",
       "      <td>Yes</td>\n",
       "      <td>No</td>\n",
       "      <td>No</td>\n",
       "      <td>Male</td>\n",
       "      <td>18-29</td>\n",
       "      <td>$100,000 - $149,999</td>\n",
       "      <td>Some college or Associate degree</td>\n",
       "      <td>West North Central</td>\n",
       "    </tr>\n",
       "    <tr>\n",
       "      <th>6</th>\n",
       "      <td>3.292719e+09</td>\n",
       "      <td>Yes</td>\n",
       "      <td>Yes</td>\n",
       "      <td>Star Wars: Episode I  The Phantom Menace</td>\n",
       "      <td>Star Wars: Episode II  Attack of the Clones</td>\n",
       "      <td>Star Wars: Episode III  Revenge of the Sith</td>\n",
       "      <td>Star Wars: Episode IV  A New Hope</td>\n",
       "      <td>Star Wars: Episode V The Empire Strikes Back</td>\n",
       "      <td>Star Wars: Episode VI Return of the Jedi</td>\n",
       "      <td>1</td>\n",
       "      <td>...</td>\n",
       "      <td>Very favorably</td>\n",
       "      <td>Han</td>\n",
       "      <td>Yes</td>\n",
       "      <td>No</td>\n",
       "      <td>Yes</td>\n",
       "      <td>Male</td>\n",
       "      <td>18-29</td>\n",
       "      <td>$25,000 - $49,999</td>\n",
       "      <td>Bachelor degree</td>\n",
       "      <td>Middle Atlantic</td>\n",
       "    </tr>\n",
       "    <tr>\n",
       "      <th>7</th>\n",
       "      <td>3.292685e+09</td>\n",
       "      <td>Yes</td>\n",
       "      <td>Yes</td>\n",
       "      <td>Star Wars: Episode I  The Phantom Menace</td>\n",
       "      <td>Star Wars: Episode II  Attack of the Clones</td>\n",
       "      <td>Star Wars: Episode III  Revenge of the Sith</td>\n",
       "      <td>Star Wars: Episode IV  A New Hope</td>\n",
       "      <td>Star Wars: Episode V The Empire Strikes Back</td>\n",
       "      <td>Star Wars: Episode VI Return of the Jedi</td>\n",
       "      <td>6</td>\n",
       "      <td>...</td>\n",
       "      <td>Very favorably</td>\n",
       "      <td>Han</td>\n",
       "      <td>Yes</td>\n",
       "      <td>No</td>\n",
       "      <td>No</td>\n",
       "      <td>Male</td>\n",
       "      <td>18-29</td>\n",
       "      <td>NaN</td>\n",
       "      <td>High school degree</td>\n",
       "      <td>East North Central</td>\n",
       "    </tr>\n",
       "    <tr>\n",
       "      <th>8</th>\n",
       "      <td>3.292664e+09</td>\n",
       "      <td>Yes</td>\n",
       "      <td>Yes</td>\n",
       "      <td>Star Wars: Episode I  The Phantom Menace</td>\n",
       "      <td>Star Wars: Episode II  Attack of the Clones</td>\n",
       "      <td>Star Wars: Episode III  Revenge of the Sith</td>\n",
       "      <td>Star Wars: Episode IV  A New Hope</td>\n",
       "      <td>Star Wars: Episode V The Empire Strikes Back</td>\n",
       "      <td>Star Wars: Episode VI Return of the Jedi</td>\n",
       "      <td>4</td>\n",
       "      <td>...</td>\n",
       "      <td>Very favorably</td>\n",
       "      <td>Han</td>\n",
       "      <td>No</td>\n",
       "      <td>NaN</td>\n",
       "      <td>Yes</td>\n",
       "      <td>Male</td>\n",
       "      <td>18-29</td>\n",
       "      <td>NaN</td>\n",
       "      <td>High school degree</td>\n",
       "      <td>South Atlantic</td>\n",
       "    </tr>\n",
       "    <tr>\n",
       "      <th>9</th>\n",
       "      <td>3.292654e+09</td>\n",
       "      <td>Yes</td>\n",
       "      <td>Yes</td>\n",
       "      <td>Star Wars: Episode I  The Phantom Menace</td>\n",
       "      <td>Star Wars: Episode II  Attack of the Clones</td>\n",
       "      <td>Star Wars: Episode III  Revenge of the Sith</td>\n",
       "      <td>Star Wars: Episode IV  A New Hope</td>\n",
       "      <td>Star Wars: Episode V The Empire Strikes Back</td>\n",
       "      <td>Star Wars: Episode VI Return of the Jedi</td>\n",
       "      <td>5</td>\n",
       "      <td>...</td>\n",
       "      <td>Somewhat favorably</td>\n",
       "      <td>Han</td>\n",
       "      <td>No</td>\n",
       "      <td>NaN</td>\n",
       "      <td>No</td>\n",
       "      <td>Male</td>\n",
       "      <td>18-29</td>\n",
       "      <td>$0 - $24,999</td>\n",
       "      <td>Some college or Associate degree</td>\n",
       "      <td>South Atlantic</td>\n",
       "    </tr>\n",
       "  </tbody>\n",
       "</table>\n",
       "<p>10 rows × 38 columns</p>\n",
       "</div>"
      ],
      "text/plain": [
       "   RespondentID Have you seen any of the 6 films in the Star Wars franchise?  \\\n",
       "0           NaN                                           Response             \n",
       "1  3.292880e+09                                                Yes             \n",
       "2  3.292880e+09                                                 No             \n",
       "3  3.292765e+09                                                Yes             \n",
       "4  3.292763e+09                                                Yes             \n",
       "5  3.292731e+09                                                Yes             \n",
       "6  3.292719e+09                                                Yes             \n",
       "7  3.292685e+09                                                Yes             \n",
       "8  3.292664e+09                                                Yes             \n",
       "9  3.292654e+09                                                Yes             \n",
       "\n",
       "  Do you consider yourself to be a fan of the Star Wars film franchise?  \\\n",
       "0                                           Response                      \n",
       "1                                                Yes                      \n",
       "2                                                NaN                      \n",
       "3                                                 No                      \n",
       "4                                                Yes                      \n",
       "5                                                Yes                      \n",
       "6                                                Yes                      \n",
       "7                                                Yes                      \n",
       "8                                                Yes                      \n",
       "9                                                Yes                      \n",
       "\n",
       "  Which of the following Star Wars films have you seen? Please select all that apply.  \\\n",
       "0           Star Wars: Episode I  The Phantom Menace                                    \n",
       "1           Star Wars: Episode I  The Phantom Menace                                    \n",
       "2                                                NaN                                    \n",
       "3           Star Wars: Episode I  The Phantom Menace                                    \n",
       "4           Star Wars: Episode I  The Phantom Menace                                    \n",
       "5           Star Wars: Episode I  The Phantom Menace                                    \n",
       "6           Star Wars: Episode I  The Phantom Menace                                    \n",
       "7           Star Wars: Episode I  The Phantom Menace                                    \n",
       "8           Star Wars: Episode I  The Phantom Menace                                    \n",
       "9           Star Wars: Episode I  The Phantom Menace                                    \n",
       "\n",
       "                                    Unnamed: 4  \\\n",
       "0  Star Wars: Episode II  Attack of the Clones   \n",
       "1  Star Wars: Episode II  Attack of the Clones   \n",
       "2                                          NaN   \n",
       "3  Star Wars: Episode II  Attack of the Clones   \n",
       "4  Star Wars: Episode II  Attack of the Clones   \n",
       "5  Star Wars: Episode II  Attack of the Clones   \n",
       "6  Star Wars: Episode II  Attack of the Clones   \n",
       "7  Star Wars: Episode II  Attack of the Clones   \n",
       "8  Star Wars: Episode II  Attack of the Clones   \n",
       "9  Star Wars: Episode II  Attack of the Clones   \n",
       "\n",
       "                                    Unnamed: 5  \\\n",
       "0  Star Wars: Episode III  Revenge of the Sith   \n",
       "1  Star Wars: Episode III  Revenge of the Sith   \n",
       "2                                          NaN   \n",
       "3  Star Wars: Episode III  Revenge of the Sith   \n",
       "4  Star Wars: Episode III  Revenge of the Sith   \n",
       "5  Star Wars: Episode III  Revenge of the Sith   \n",
       "6  Star Wars: Episode III  Revenge of the Sith   \n",
       "7  Star Wars: Episode III  Revenge of the Sith   \n",
       "8  Star Wars: Episode III  Revenge of the Sith   \n",
       "9  Star Wars: Episode III  Revenge of the Sith   \n",
       "\n",
       "                          Unnamed: 6  \\\n",
       "0  Star Wars: Episode IV  A New Hope   \n",
       "1  Star Wars: Episode IV  A New Hope   \n",
       "2                                NaN   \n",
       "3                                NaN   \n",
       "4  Star Wars: Episode IV  A New Hope   \n",
       "5  Star Wars: Episode IV  A New Hope   \n",
       "6  Star Wars: Episode IV  A New Hope   \n",
       "7  Star Wars: Episode IV  A New Hope   \n",
       "8  Star Wars: Episode IV  A New Hope   \n",
       "9  Star Wars: Episode IV  A New Hope   \n",
       "\n",
       "                                     Unnamed: 7  \\\n",
       "0  Star Wars: Episode V The Empire Strikes Back   \n",
       "1  Star Wars: Episode V The Empire Strikes Back   \n",
       "2                                           NaN   \n",
       "3                                           NaN   \n",
       "4  Star Wars: Episode V The Empire Strikes Back   \n",
       "5  Star Wars: Episode V The Empire Strikes Back   \n",
       "6  Star Wars: Episode V The Empire Strikes Back   \n",
       "7  Star Wars: Episode V The Empire Strikes Back   \n",
       "8  Star Wars: Episode V The Empire Strikes Back   \n",
       "9  Star Wars: Episode V The Empire Strikes Back   \n",
       "\n",
       "                                 Unnamed: 8  \\\n",
       "0  Star Wars: Episode VI Return of the Jedi   \n",
       "1  Star Wars: Episode VI Return of the Jedi   \n",
       "2                                       NaN   \n",
       "3                                       NaN   \n",
       "4  Star Wars: Episode VI Return of the Jedi   \n",
       "5  Star Wars: Episode VI Return of the Jedi   \n",
       "6  Star Wars: Episode VI Return of the Jedi   \n",
       "7  Star Wars: Episode VI Return of the Jedi   \n",
       "8  Star Wars: Episode VI Return of the Jedi   \n",
       "9  Star Wars: Episode VI Return of the Jedi   \n",
       "\n",
       "  Please rank the Star Wars films in order of preference with 1 being your favorite film in the franchise and 6 being your least favorite film.  \\\n",
       "0           Star Wars: Episode I  The Phantom Menace                                                                                              \n",
       "1                                                  3                                                                                              \n",
       "2                                                NaN                                                                                              \n",
       "3                                                  1                                                                                              \n",
       "4                                                  5                                                                                              \n",
       "5                                                  5                                                                                              \n",
       "6                                                  1                                                                                              \n",
       "7                                                  6                                                                                              \n",
       "8                                                  4                                                                                              \n",
       "9                                                  5                                                                                              \n",
       "\n",
       "   ...         Unnamed: 28       Which character shot first?  \\\n",
       "0  ...                Yoda                          Response   \n",
       "1  ...      Very favorably  I don't understand this question   \n",
       "2  ...                 NaN                               NaN   \n",
       "3  ...    Unfamiliar (N/A)  I don't understand this question   \n",
       "4  ...      Very favorably  I don't understand this question   \n",
       "5  ...  Somewhat favorably                            Greedo   \n",
       "6  ...      Very favorably                               Han   \n",
       "7  ...      Very favorably                               Han   \n",
       "8  ...      Very favorably                               Han   \n",
       "9  ...  Somewhat favorably                               Han   \n",
       "\n",
       "  Are you familiar with the Expanded Universe?  \\\n",
       "0                                     Response   \n",
       "1                                          Yes   \n",
       "2                                          NaN   \n",
       "3                                           No   \n",
       "4                                           No   \n",
       "5                                          Yes   \n",
       "6                                          Yes   \n",
       "7                                          Yes   \n",
       "8                                           No   \n",
       "9                                           No   \n",
       "\n",
       "  Do you consider yourself to be a fan of the Expanded Universe?æ  \\\n",
       "0                                           Response                 \n",
       "1                                                 No                 \n",
       "2                                                NaN                 \n",
       "3                                                NaN                 \n",
       "4                                                NaN                 \n",
       "5                                                 No                 \n",
       "6                                                 No                 \n",
       "7                                                 No                 \n",
       "8                                                NaN                 \n",
       "9                                                NaN                 \n",
       "\n",
       "  Do you consider yourself to be a fan of the Star Trek franchise?    Gender  \\\n",
       "0                                           Response                Response   \n",
       "1                                                 No                    Male   \n",
       "2                                                Yes                    Male   \n",
       "3                                                 No                    Male   \n",
       "4                                                Yes                    Male   \n",
       "5                                                 No                    Male   \n",
       "6                                                Yes                    Male   \n",
       "7                                                 No                    Male   \n",
       "8                                                Yes                    Male   \n",
       "9                                                 No                    Male   \n",
       "\n",
       "        Age     Household Income                         Education  \\\n",
       "0  Response             Response                          Response   \n",
       "1     18-29                  NaN                High school degree   \n",
       "2     18-29         $0 - $24,999                   Bachelor degree   \n",
       "3     18-29         $0 - $24,999                High school degree   \n",
       "4     18-29  $100,000 - $149,999  Some college or Associate degree   \n",
       "5     18-29  $100,000 - $149,999  Some college or Associate degree   \n",
       "6     18-29    $25,000 - $49,999                   Bachelor degree   \n",
       "7     18-29                  NaN                High school degree   \n",
       "8     18-29                  NaN                High school degree   \n",
       "9     18-29         $0 - $24,999  Some college or Associate degree   \n",
       "\n",
       "  Location (Census Region)  \n",
       "0                 Response  \n",
       "1           South Atlantic  \n",
       "2       West South Central  \n",
       "3       West North Central  \n",
       "4       West North Central  \n",
       "5       West North Central  \n",
       "6          Middle Atlantic  \n",
       "7       East North Central  \n",
       "8           South Atlantic  \n",
       "9           South Atlantic  \n",
       "\n",
       "[10 rows x 38 columns]"
      ]
     },
     "execution_count": 154,
     "metadata": {},
     "output_type": "execute_result"
    }
   ],
   "source": [
    "# Exploring the data to find the odd values\n",
    "star_wars.head(10)"
   ]
  },
  {
   "cell_type": "code",
   "execution_count": 155,
   "metadata": {},
   "outputs": [
    {
     "data": {
      "text/plain": [
       "Index(['RespondentID',\n",
       "       'Have you seen any of the 6 films in the Star Wars franchise?',\n",
       "       'Do you consider yourself to be a fan of the Star Wars film franchise?',\n",
       "       'Which of the following Star Wars films have you seen? Please select all that apply.',\n",
       "       'Unnamed: 4', 'Unnamed: 5', 'Unnamed: 6', 'Unnamed: 7', 'Unnamed: 8',\n",
       "       'Please rank the Star Wars films in order of preference with 1 being your favorite film in the franchise and 6 being your least favorite film.',\n",
       "       'Unnamed: 10', 'Unnamed: 11', 'Unnamed: 12', 'Unnamed: 13',\n",
       "       'Unnamed: 14',\n",
       "       'Please state whether you view the following characters favorably, unfavorably, or are unfamiliar with him/her.',\n",
       "       'Unnamed: 16', 'Unnamed: 17', 'Unnamed: 18', 'Unnamed: 19',\n",
       "       'Unnamed: 20', 'Unnamed: 21', 'Unnamed: 22', 'Unnamed: 23',\n",
       "       'Unnamed: 24', 'Unnamed: 25', 'Unnamed: 26', 'Unnamed: 27',\n",
       "       'Unnamed: 28', 'Which character shot first?',\n",
       "       'Are you familiar with the Expanded Universe?',\n",
       "       'Do you consider yourself to be a fan of the Expanded Universe?æ',\n",
       "       'Do you consider yourself to be a fan of the Star Trek franchise?',\n",
       "       'Gender', 'Age', 'Household Income', 'Education',\n",
       "       'Location (Census Region)'],\n",
       "      dtype='object')"
      ]
     },
     "execution_count": 155,
     "metadata": {},
     "output_type": "execute_result"
    }
   ],
   "source": [
    "# View all column names\n",
    "star_wars.columns "
   ]
  },
  {
   "cell_type": "code",
   "execution_count": 156,
   "metadata": {},
   "outputs": [],
   "source": [
    "# Drop the rows where the RespondentID is null\n",
    "star_wars = star_wars[pd.notnull(star_wars[\"RespondentID\"])]"
   ]
  },
  {
   "cell_type": "markdown",
   "metadata": {},
   "source": [
    "## Cleaning and Mapping Yes/No Columns\n",
    "\n",
    "Take a look at the next two columns, which are:\n",
    "\n",
    " - Have you seen any of the 6 films in the Star Wars franchise?\n",
    " - Do you consider yourself to be a fan of the Star Wars film franchise?\n",
    "\n",
    "Both columns are currently string types, because the main values they contain are `Yes` and `No`. We can make the data a bit easier to analyze down the road by converting each column to a Boolean having only the values `True`, `False`, and `NaN`. Booleans are easier to work with because we can select the rows that are `True` or `False` without having to do a string comparison."
   ]
  },
  {
   "cell_type": "code",
   "execution_count": 157,
   "metadata": {},
   "outputs": [
    {
     "data": {
      "text/plain": [
       "True     936\n",
       "False    250\n",
       "Name: Have you seen any of the 6 films in the Star Wars franchise?, dtype: int64"
      ]
     },
     "execution_count": 157,
     "metadata": {},
     "output_type": "execute_result"
    }
   ],
   "source": [
    "# Create a new dictionary to define a mapping from each value in series \n",
    "# to a new value\n",
    "yes_no = {\n",
    "    'Yes': True, \n",
    "    'No': False\n",
    "}\n",
    "\n",
    "# Mapping values \n",
    "star_wars['Have you seen any of the 6 films in the Star Wars franchise?'] = star_wars['Have you seen any of the 6 films in the Star Wars franchise?'].map(yes_no)\n",
    "star_wars['Have you seen any of the 6 films in the Star Wars franchise?'].value_counts(dropna=False)"
   ]
  },
  {
   "cell_type": "code",
   "execution_count": 158,
   "metadata": {},
   "outputs": [
    {
     "data": {
      "text/plain": [
       "True     552\n",
       "True     350\n",
       "False    284\n",
       "Name: Do you consider yourself to be a fan of the Star Wars film franchise?, dtype: int64"
      ]
     },
     "execution_count": 158,
     "metadata": {},
     "output_type": "execute_result"
    }
   ],
   "source": [
    "# Mapping values\n",
    "star_wars['Do you consider yourself to be a fan of the Star Wars film franchise?'] = star_wars['Do you consider yourself to be a fan of the Star Wars film franchise?'].map(yes_no)\n",
    "star_wars['Do you consider yourself to be a fan of the Star Wars film franchise?'].value_counts(dropna=False)"
   ]
  },
  {
   "cell_type": "markdown",
   "metadata": {},
   "source": [
    "## Cleaning and Mapping Checkbox Columns\n",
    "\n",
    "The next six columns represent a single checkbox question. The respondent checked off a series of boxes in response to the question, `Which of the following Star Wars films have you seen? Please select all that apply.\n",
    "`\n",
    "The columns for this question are:\n",
    "\n",
    "- `Which of the following Star Wars films have you seen? Please select all that apply.` - Whether or not the respondent saw Star Wars: Episode I The Phantom Menace.\n",
    "- `Unnamed: 4` - Whether or not the respondent saw Star Wars: Episode II Attack of the Clones.\n",
    "- `Unnamed: 5` - Whether or not the respondent saw Star Wars: Episode III Revenge of the Sith.\n",
    "- `Unnamed: 6` - Whether or not the respondent saw Star Wars: Episode IV A New Hope.\n",
    "- `Unnamed: 7` - Whether or not the respondent saw Star Wars: Episode V The Empire Strikes Back.\n",
    "- `Unnamed: 8` - Whether or not the respondent saw Star Wars: Episode VI Return of the Jedi.\n",
    "\n",
    "\n",
    "For each of these columns, if the value in a cell is the name of the movie, that means the respondent saw the movie. If the value is `NaN`, the respondent either didn't answer or didn't see the movie. We'll assume that they didn't see the movie.\n",
    "\n",
    "We'll need to convert each of these columns to a Boolean, then rename the column something more intuitive. We can convert the values the same way we did earlier, except that we'll need to include the movie title and `NaN` in the mapping dictionary."
   ]
  },
  {
   "cell_type": "code",
   "execution_count": 159,
   "metadata": {},
   "outputs": [],
   "source": [
    "# Create a new dictionary to define a mapping from each value in series \n",
    "# to a new value \n",
    "\n",
    "movies_dict = {\n",
    "    'Star Wars: Episode I  The Phantom Menace': True, \n",
    "    'Star Wars: Episode II  Attack of the Clones': True,\n",
    "    'Star Wars: Episode III  Revenge of the Sith': True, \n",
    "    'Star Wars: Episode IV  A New Hope': True, \n",
    "    'Star Wars: Episode V The Empire Strikes Back': True, \n",
    "    'Star Wars: Episode VI Return of the Jedi': True, \n",
    "    np.NaN: False\n",
    "} \n",
    "\n",
    "# Pass the dictionary and call map() method on each column\n",
    "\n",
    "for col in star_wars.columns[3:9]: \n",
    "    star_wars[col] = star_wars[col].map(movies_dict)\n"
   ]
  },
  {
   "cell_type": "code",
   "execution_count": 160,
   "metadata": {},
   "outputs": [
    {
     "data": {
      "text/html": [
       "<div>\n",
       "<style scoped>\n",
       "    .dataframe tbody tr th:only-of-type {\n",
       "        vertical-align: middle;\n",
       "    }\n",
       "\n",
       "    .dataframe tbody tr th {\n",
       "        vertical-align: top;\n",
       "    }\n",
       "\n",
       "    .dataframe thead th {\n",
       "        text-align: right;\n",
       "    }\n",
       "</style>\n",
       "<table border=\"1\" class=\"dataframe\">\n",
       "  <thead>\n",
       "    <tr style=\"text-align: right;\">\n",
       "      <th></th>\n",
       "      <th>RespondentID</th>\n",
       "      <th>Have you seen any of the 6 films in the Star Wars franchise?</th>\n",
       "      <th>Do you consider yourself to be a fan of the Star Wars film franchise?</th>\n",
       "      <th>seen_1</th>\n",
       "      <th>seen_2</th>\n",
       "      <th>seen_3</th>\n",
       "      <th>seen_4</th>\n",
       "      <th>seen_5</th>\n",
       "      <th>seen_6</th>\n",
       "      <th>Please rank the Star Wars films in order of preference with 1 being your favorite film in the franchise and 6 being your least favorite film.</th>\n",
       "      <th>...</th>\n",
       "      <th>Unnamed: 28</th>\n",
       "      <th>Which character shot first?</th>\n",
       "      <th>Are you familiar with the Expanded Universe?</th>\n",
       "      <th>Do you consider yourself to be a fan of the Expanded Universe?æ</th>\n",
       "      <th>Do you consider yourself to be a fan of the Star Trek franchise?</th>\n",
       "      <th>Gender</th>\n",
       "      <th>Age</th>\n",
       "      <th>Household Income</th>\n",
       "      <th>Education</th>\n",
       "      <th>Location (Census Region)</th>\n",
       "    </tr>\n",
       "  </thead>\n",
       "  <tbody>\n",
       "    <tr>\n",
       "      <th>1</th>\n",
       "      <td>3.292880e+09</td>\n",
       "      <td>True</td>\n",
       "      <td>True</td>\n",
       "      <td>True</td>\n",
       "      <td>True</td>\n",
       "      <td>True</td>\n",
       "      <td>True</td>\n",
       "      <td>True</td>\n",
       "      <td>True</td>\n",
       "      <td>3</td>\n",
       "      <td>...</td>\n",
       "      <td>Very favorably</td>\n",
       "      <td>I don't understand this question</td>\n",
       "      <td>Yes</td>\n",
       "      <td>No</td>\n",
       "      <td>No</td>\n",
       "      <td>Male</td>\n",
       "      <td>18-29</td>\n",
       "      <td>NaN</td>\n",
       "      <td>High school degree</td>\n",
       "      <td>South Atlantic</td>\n",
       "    </tr>\n",
       "    <tr>\n",
       "      <th>2</th>\n",
       "      <td>3.292880e+09</td>\n",
       "      <td>False</td>\n",
       "      <td>NaN</td>\n",
       "      <td>False</td>\n",
       "      <td>False</td>\n",
       "      <td>False</td>\n",
       "      <td>False</td>\n",
       "      <td>False</td>\n",
       "      <td>False</td>\n",
       "      <td>NaN</td>\n",
       "      <td>...</td>\n",
       "      <td>NaN</td>\n",
       "      <td>NaN</td>\n",
       "      <td>NaN</td>\n",
       "      <td>NaN</td>\n",
       "      <td>Yes</td>\n",
       "      <td>Male</td>\n",
       "      <td>18-29</td>\n",
       "      <td>$0 - $24,999</td>\n",
       "      <td>Bachelor degree</td>\n",
       "      <td>West South Central</td>\n",
       "    </tr>\n",
       "    <tr>\n",
       "      <th>3</th>\n",
       "      <td>3.292765e+09</td>\n",
       "      <td>True</td>\n",
       "      <td>False</td>\n",
       "      <td>True</td>\n",
       "      <td>True</td>\n",
       "      <td>True</td>\n",
       "      <td>False</td>\n",
       "      <td>False</td>\n",
       "      <td>False</td>\n",
       "      <td>1</td>\n",
       "      <td>...</td>\n",
       "      <td>Unfamiliar (N/A)</td>\n",
       "      <td>I don't understand this question</td>\n",
       "      <td>No</td>\n",
       "      <td>NaN</td>\n",
       "      <td>No</td>\n",
       "      <td>Male</td>\n",
       "      <td>18-29</td>\n",
       "      <td>$0 - $24,999</td>\n",
       "      <td>High school degree</td>\n",
       "      <td>West North Central</td>\n",
       "    </tr>\n",
       "    <tr>\n",
       "      <th>4</th>\n",
       "      <td>3.292763e+09</td>\n",
       "      <td>True</td>\n",
       "      <td>True</td>\n",
       "      <td>True</td>\n",
       "      <td>True</td>\n",
       "      <td>True</td>\n",
       "      <td>True</td>\n",
       "      <td>True</td>\n",
       "      <td>True</td>\n",
       "      <td>5</td>\n",
       "      <td>...</td>\n",
       "      <td>Very favorably</td>\n",
       "      <td>I don't understand this question</td>\n",
       "      <td>No</td>\n",
       "      <td>NaN</td>\n",
       "      <td>Yes</td>\n",
       "      <td>Male</td>\n",
       "      <td>18-29</td>\n",
       "      <td>$100,000 - $149,999</td>\n",
       "      <td>Some college or Associate degree</td>\n",
       "      <td>West North Central</td>\n",
       "    </tr>\n",
       "    <tr>\n",
       "      <th>5</th>\n",
       "      <td>3.292731e+09</td>\n",
       "      <td>True</td>\n",
       "      <td>True</td>\n",
       "      <td>True</td>\n",
       "      <td>True</td>\n",
       "      <td>True</td>\n",
       "      <td>True</td>\n",
       "      <td>True</td>\n",
       "      <td>True</td>\n",
       "      <td>5</td>\n",
       "      <td>...</td>\n",
       "      <td>Somewhat favorably</td>\n",
       "      <td>Greedo</td>\n",
       "      <td>Yes</td>\n",
       "      <td>No</td>\n",
       "      <td>No</td>\n",
       "      <td>Male</td>\n",
       "      <td>18-29</td>\n",
       "      <td>$100,000 - $149,999</td>\n",
       "      <td>Some college or Associate degree</td>\n",
       "      <td>West North Central</td>\n",
       "    </tr>\n",
       "  </tbody>\n",
       "</table>\n",
       "<p>5 rows × 38 columns</p>\n",
       "</div>"
      ],
      "text/plain": [
       "   RespondentID  Have you seen any of the 6 films in the Star Wars franchise?  \\\n",
       "1  3.292880e+09                                               True              \n",
       "2  3.292880e+09                                              False              \n",
       "3  3.292765e+09                                               True              \n",
       "4  3.292763e+09                                               True              \n",
       "5  3.292731e+09                                               True              \n",
       "\n",
       "  Do you consider yourself to be a fan of the Star Wars film franchise?  \\\n",
       "1                                               True                      \n",
       "2                                                NaN                      \n",
       "3                                              False                      \n",
       "4                                               True                      \n",
       "5                                               True                      \n",
       "\n",
       "   seen_1  seen_2  seen_3  seen_4  seen_5  seen_6  \\\n",
       "1    True    True    True    True    True    True   \n",
       "2   False   False   False   False   False   False   \n",
       "3    True    True    True   False   False   False   \n",
       "4    True    True    True    True    True    True   \n",
       "5    True    True    True    True    True    True   \n",
       "\n",
       "  Please rank the Star Wars films in order of preference with 1 being your favorite film in the franchise and 6 being your least favorite film.  \\\n",
       "1                                                  3                                                                                              \n",
       "2                                                NaN                                                                                              \n",
       "3                                                  1                                                                                              \n",
       "4                                                  5                                                                                              \n",
       "5                                                  5                                                                                              \n",
       "\n",
       "   ...         Unnamed: 28       Which character shot first?  \\\n",
       "1  ...      Very favorably  I don't understand this question   \n",
       "2  ...                 NaN                               NaN   \n",
       "3  ...    Unfamiliar (N/A)  I don't understand this question   \n",
       "4  ...      Very favorably  I don't understand this question   \n",
       "5  ...  Somewhat favorably                            Greedo   \n",
       "\n",
       "  Are you familiar with the Expanded Universe?  \\\n",
       "1                                          Yes   \n",
       "2                                          NaN   \n",
       "3                                           No   \n",
       "4                                           No   \n",
       "5                                          Yes   \n",
       "\n",
       "  Do you consider yourself to be a fan of the Expanded Universe?æ  \\\n",
       "1                                                 No                 \n",
       "2                                                NaN                 \n",
       "3                                                NaN                 \n",
       "4                                                NaN                 \n",
       "5                                                 No                 \n",
       "\n",
       "  Do you consider yourself to be a fan of the Star Trek franchise? Gender  \\\n",
       "1                                                 No                 Male   \n",
       "2                                                Yes                 Male   \n",
       "3                                                 No                 Male   \n",
       "4                                                Yes                 Male   \n",
       "5                                                 No                 Male   \n",
       "\n",
       "     Age     Household Income                         Education  \\\n",
       "1  18-29                  NaN                High school degree   \n",
       "2  18-29         $0 - $24,999                   Bachelor degree   \n",
       "3  18-29         $0 - $24,999                High school degree   \n",
       "4  18-29  $100,000 - $149,999  Some college or Associate degree   \n",
       "5  18-29  $100,000 - $149,999  Some college or Associate degree   \n",
       "\n",
       "  Location (Census Region)  \n",
       "1           South Atlantic  \n",
       "2       West South Central  \n",
       "3       West North Central  \n",
       "4       West North Central  \n",
       "5       West North Central  \n",
       "\n",
       "[5 rows x 38 columns]"
      ]
     },
     "execution_count": 160,
     "metadata": {},
     "output_type": "execute_result"
    }
   ],
   "source": [
    "# Rename column names to better reflect what they represent \n",
    "star_wars = star_wars.rename(columns={'Which of the following Star Wars films have you seen? Please select all that apply.': 'seen_1',\n",
    "                                      'Unnamed: 4': 'seen_2',\n",
    "                                      'Unnamed: 5': 'seen_3',\n",
    "                                      'Unnamed: 6': 'seen_4',\n",
    "                                      'Unnamed: 7': 'seen_5',\n",
    "                                      'Unnamed: 8': 'seen_6'})\n",
    "star_wars.head()"
   ]
  },
  {
   "cell_type": "markdown",
   "metadata": {},
   "source": [
    "## Cleaning the Ranking Columns \n",
    "\n",
    "The next six columns ask the respondent to rank the Star Wars movies in order of least favorite to most favorite. `1` means the film was the most favorite, and `6` means it was the least favorite. Each of the following columns can contain the value `1, 2, 3, 4, 5, 6,` or `NaN`:\n",
    "\n",
    "\n",
    "- `Please rank the Star Wars films in order of preference with 1 being your favorite film in the franchise and 6 being your least favorite film.` - How much the respondent liked Star Wars: Episode I The Phantom Menace\n",
    "- `Unnamed: 10` - How much the respondent liked Star Wars: Episode II Attack of the Clones\n",
    "- `Unnamed: 11` - How much the respondent liked Star Wars: Episode III Revenge of the Sith\n",
    "- `Unnamed: 12` - How much the respondent liked Star Wars: Episode IV A New Hope\n",
    "- `Unnamed: 13` - How much the respondent liked Star Wars: Episode V The Empire Strikes Back\n",
    "- `Unnamed: 14` - How much the respondent liked Star Wars: Episode VI Return of the Jedi \n",
    "\n",
    "Fortunately, these columns don't require a lot of cleanup. We'll need to convert each column to a numeric type, though, then rename the columns so that we can tell what they represent more easily."
   ]
  },
  {
   "cell_type": "code",
   "execution_count": 161,
   "metadata": {},
   "outputs": [],
   "source": [
    "# Convert the values to float\n",
    "star_wars[star_wars.columns[9:15]] = star_wars[star_wars.columns[9:15]].astype(float)"
   ]
  },
  {
   "cell_type": "code",
   "execution_count": 162,
   "metadata": {},
   "outputs": [
    {
     "data": {
      "text/html": [
       "<div>\n",
       "<style scoped>\n",
       "    .dataframe tbody tr th:only-of-type {\n",
       "        vertical-align: middle;\n",
       "    }\n",
       "\n",
       "    .dataframe tbody tr th {\n",
       "        vertical-align: top;\n",
       "    }\n",
       "\n",
       "    .dataframe thead th {\n",
       "        text-align: right;\n",
       "    }\n",
       "</style>\n",
       "<table border=\"1\" class=\"dataframe\">\n",
       "  <thead>\n",
       "    <tr style=\"text-align: right;\">\n",
       "      <th></th>\n",
       "      <th>ranking_1</th>\n",
       "      <th>ranking_2</th>\n",
       "      <th>ranking_3</th>\n",
       "      <th>ranking_4</th>\n",
       "      <th>ranking_5</th>\n",
       "      <th>ranking_6</th>\n",
       "    </tr>\n",
       "  </thead>\n",
       "  <tbody>\n",
       "    <tr>\n",
       "      <th>1</th>\n",
       "      <td>3.0</td>\n",
       "      <td>2.0</td>\n",
       "      <td>1.0</td>\n",
       "      <td>4.0</td>\n",
       "      <td>5.0</td>\n",
       "      <td>6.0</td>\n",
       "    </tr>\n",
       "    <tr>\n",
       "      <th>2</th>\n",
       "      <td>NaN</td>\n",
       "      <td>NaN</td>\n",
       "      <td>NaN</td>\n",
       "      <td>NaN</td>\n",
       "      <td>NaN</td>\n",
       "      <td>NaN</td>\n",
       "    </tr>\n",
       "    <tr>\n",
       "      <th>3</th>\n",
       "      <td>1.0</td>\n",
       "      <td>2.0</td>\n",
       "      <td>3.0</td>\n",
       "      <td>4.0</td>\n",
       "      <td>5.0</td>\n",
       "      <td>6.0</td>\n",
       "    </tr>\n",
       "    <tr>\n",
       "      <th>4</th>\n",
       "      <td>5.0</td>\n",
       "      <td>6.0</td>\n",
       "      <td>1.0</td>\n",
       "      <td>2.0</td>\n",
       "      <td>4.0</td>\n",
       "      <td>3.0</td>\n",
       "    </tr>\n",
       "    <tr>\n",
       "      <th>5</th>\n",
       "      <td>5.0</td>\n",
       "      <td>4.0</td>\n",
       "      <td>6.0</td>\n",
       "      <td>2.0</td>\n",
       "      <td>1.0</td>\n",
       "      <td>3.0</td>\n",
       "    </tr>\n",
       "    <tr>\n",
       "      <th>...</th>\n",
       "      <td>...</td>\n",
       "      <td>...</td>\n",
       "      <td>...</td>\n",
       "      <td>...</td>\n",
       "      <td>...</td>\n",
       "      <td>...</td>\n",
       "    </tr>\n",
       "    <tr>\n",
       "      <th>1182</th>\n",
       "      <td>5.0</td>\n",
       "      <td>4.0</td>\n",
       "      <td>6.0</td>\n",
       "      <td>3.0</td>\n",
       "      <td>2.0</td>\n",
       "      <td>1.0</td>\n",
       "    </tr>\n",
       "    <tr>\n",
       "      <th>1183</th>\n",
       "      <td>4.0</td>\n",
       "      <td>5.0</td>\n",
       "      <td>6.0</td>\n",
       "      <td>2.0</td>\n",
       "      <td>3.0</td>\n",
       "      <td>1.0</td>\n",
       "    </tr>\n",
       "    <tr>\n",
       "      <th>1184</th>\n",
       "      <td>NaN</td>\n",
       "      <td>NaN</td>\n",
       "      <td>NaN</td>\n",
       "      <td>NaN</td>\n",
       "      <td>NaN</td>\n",
       "      <td>NaN</td>\n",
       "    </tr>\n",
       "    <tr>\n",
       "      <th>1185</th>\n",
       "      <td>4.0</td>\n",
       "      <td>3.0</td>\n",
       "      <td>6.0</td>\n",
       "      <td>5.0</td>\n",
       "      <td>2.0</td>\n",
       "      <td>1.0</td>\n",
       "    </tr>\n",
       "    <tr>\n",
       "      <th>1186</th>\n",
       "      <td>6.0</td>\n",
       "      <td>1.0</td>\n",
       "      <td>2.0</td>\n",
       "      <td>3.0</td>\n",
       "      <td>4.0</td>\n",
       "      <td>5.0</td>\n",
       "    </tr>\n",
       "  </tbody>\n",
       "</table>\n",
       "<p>1186 rows × 6 columns</p>\n",
       "</div>"
      ],
      "text/plain": [
       "      ranking_1  ranking_2  ranking_3  ranking_4  ranking_5  ranking_6\n",
       "1           3.0        2.0        1.0        4.0        5.0        6.0\n",
       "2           NaN        NaN        NaN        NaN        NaN        NaN\n",
       "3           1.0        2.0        3.0        4.0        5.0        6.0\n",
       "4           5.0        6.0        1.0        2.0        4.0        3.0\n",
       "5           5.0        4.0        6.0        2.0        1.0        3.0\n",
       "...         ...        ...        ...        ...        ...        ...\n",
       "1182        5.0        4.0        6.0        3.0        2.0        1.0\n",
       "1183        4.0        5.0        6.0        2.0        3.0        1.0\n",
       "1184        NaN        NaN        NaN        NaN        NaN        NaN\n",
       "1185        4.0        3.0        6.0        5.0        2.0        1.0\n",
       "1186        6.0        1.0        2.0        3.0        4.0        5.0\n",
       "\n",
       "[1186 rows x 6 columns]"
      ]
     },
     "execution_count": 162,
     "metadata": {},
     "output_type": "execute_result"
    }
   ],
   "source": [
    "# Rename column names to better reflect what they represent \n",
    "star_wars = star_wars.rename(columns={'Please rank the Star Wars films in order of preference with 1 being your favorite film in the franchise and 6 being your least favorite film.': 'ranking_1',\n",
    "                                      'Unnamed: 10': 'ranking_2',\n",
    "                                      'Unnamed: 11': 'ranking_3',\n",
    "                                      'Unnamed: 12': 'ranking_4',\n",
    "                                      'Unnamed: 13': 'ranking_5',\n",
    "                                      'Unnamed: 14': 'ranking_6'})\n",
    "star_wars[star_wars.columns[9:15]]"
   ]
  },
  {
   "cell_type": "markdown",
   "metadata": {},
   "source": [
    "## Finding the Highest-Ranked Movie \n",
    "\n",
    "Now that we've cleaned up the ranking columns, we can find the highest-ranked movie more quickly. To do this, take the mean of each of the ranking columns using the pandas.DataFrame.mean() method on dataframes."
   ]
  },
  {
   "cell_type": "code",
   "execution_count": 163,
   "metadata": {},
   "outputs": [
    {
     "data": {
      "text/plain": [
       "ranking_1    3.732934\n",
       "ranking_2    4.087321\n",
       "ranking_3    4.341317\n",
       "ranking_4    3.272727\n",
       "ranking_5    2.513158\n",
       "ranking_6    3.047847\n",
       "dtype: float64"
      ]
     },
     "execution_count": 163,
     "metadata": {},
     "output_type": "execute_result"
    }
   ],
   "source": [
    "# Calculate the mean of each ranking column\n",
    "mean_rankings = star_wars[star_wars.columns[9:15]].mean()\n",
    "mean_rankings"
   ]
  },
  {
   "cell_type": "code",
   "execution_count": 164,
   "metadata": {},
   "outputs": [
    {
     "data": {
      "text/plain": [
       "<matplotlib.axes._subplots.AxesSubplot at 0x1ccf4d1b408>"
      ]
     },
     "execution_count": 164,
     "metadata": {},
     "output_type": "execute_result"
    },
    {
     "data": {
      "image/png": "[encoded data removed]",
      "text/plain": [
       "<Figure size 432x288 with 1 Axes>"
      ]
     },
     "metadata": {
      "needs_background": "light"
     },
     "output_type": "display_data"
    }
   ],
   "source": [
    "# Plot the results \n",
    "mean_rankings.plot.barh()"
   ]
  },
  {
   "cell_type": "markdown",
   "metadata": {},
   "source": [
    "As we can see, Star Wars: Episode V The Empire Strikes Back is the most favorite among all episodes in the franchise with the lowest average ranking, and in our case the lower the better. The Empire Strikes Back had a significant impact on filmmaking and popular culture, being regarded as a rare example of a sequel that transcends the original. The climax, in which Vader reveals to Luke that he is his father, is often cited as one of the greatest plot twists in cinematic history.\n",
    "\n",
    "Revenge of the Sith is the least favorite episode with the highest mean ranking. The majority of Star Wars fans find this particular movie ingenuine and poorly filmed. "
   ]
  },
  {
   "cell_type": "markdown",
   "metadata": {},
   "source": [
    "## Finding the Most Viewed Movie \n",
    "\n",
    "Earlier in this project, we cleaned up the `seen` columns and converted their values to the Boolean type. When we call methods like pandas.DataFrame.sum() or `mean()`, they treat Booleans like integers. They consider `True` a `1`, and `False` a `0`. That means we can figure out how many people have seen each movie just by taking the sum of the column (even though they contain Boolean values)."
   ]
  },
  {
   "cell_type": "code",
   "execution_count": 165,
   "metadata": {},
   "outputs": [
    {
     "data": {
      "text/plain": [
       "seen_1    673\n",
       "seen_2    571\n",
       "seen_3    550\n",
       "seen_4    607\n",
       "seen_5    758\n",
       "seen_6    738\n",
       "dtype: int64"
      ]
     },
     "execution_count": 165,
     "metadata": {},
     "output_type": "execute_result"
    }
   ],
   "source": [
    "# Finding mean values of each 'seen' column \n",
    "mean_seen = star_wars[star_wars.columns[3:9]].sum()\n",
    "mean_seen"
   ]
  },
  {
   "cell_type": "code",
   "execution_count": 166,
   "metadata": {},
   "outputs": [
    {
     "data": {
      "text/plain": [
       "<matplotlib.axes._subplots.AxesSubplot at 0x1ccf4d87a48>"
      ]
     },
     "execution_count": 166,
     "metadata": {},
     "output_type": "execute_result"
    },
    {
     "data": {
      "image/png": "[encoded data removed]",
      "text/plain": [
       "<Figure size 432x288 with 1 Axes>"
      ]
     },
     "metadata": {
      "needs_background": "light"
     },
     "output_type": "display_data"
    }
   ],
   "source": [
    "mean_seen.plot.bar()"
   ]
  },
  {
   "cell_type": "markdown",
   "metadata": {},
   "source": [
    "Looking at this bar plot, we can observe the following: \n",
    "\n",
    "- it's clear that the most watched episode among all is Episode V The Empire Strikes Back which also happens to be the most favorite one \n",
    "- the least watched and least favorite episode - Revenge of the Sith\n",
    "- the Episode IV A New Hope was voted the 3rd favorite but if we compare how many times an episode was seen it comes 4th after Episode I.\n",
    "\n",
    "Therefore, we can observe a certain level of correlation of `seen` columns to `ranking` columns. \n"
   ]
  },
  {
   "cell_type": "markdown",
   "metadata": {},
   "source": [
    "## Exploring the Data by Binary Segments \n",
    "\n",
    "We'll segment our data into two groups by gender: `Female`, and `Male`. The subsets will allow us to compute the most viewed movie, the highest-ranked movie, and other statistics separately for each group. \n"
   ]
  },
  {
   "cell_type": "code",
   "execution_count": 167,
   "metadata": {},
   "outputs": [],
   "source": [
    "# Segmenting the data into two groups\n",
    "males = star_wars[star_wars['Gender'] == 'Male']\n",
    "females = star_wars[star_wars['Gender'] == 'Female']"
   ]
  },
  {
   "cell_type": "markdown",
   "metadata": {},
   "source": [
    "Firstly, we will compute the average rankings by segment and compare the results with the previous rankings analysis. "
   ]
  },
  {
   "cell_type": "code",
   "execution_count": 168,
   "metadata": {},
   "outputs": [
    {
     "data": {
      "text/plain": [
       "ranking_1    4.037825\n",
       "ranking_2    4.224586\n",
       "ranking_3    4.274882\n",
       "ranking_4    2.997636\n",
       "ranking_5    2.458629\n",
       "ranking_6    3.002364\n",
       "dtype: float64"
      ]
     },
     "execution_count": 168,
     "metadata": {},
     "output_type": "execute_result"
    }
   ],
   "source": [
    "# Finding mean of male rankings\n",
    "mean_rankings_male = males[males.columns[9:15]].mean()\n",
    "mean_rankings_male"
   ]
  },
  {
   "cell_type": "code",
   "execution_count": 169,
   "metadata": {},
   "outputs": [
    {
     "data": {
      "text/plain": [
       "<matplotlib.axes._subplots.AxesSubplot at 0x1ccf4e06c48>"
      ]
     },
     "execution_count": 169,
     "metadata": {},
     "output_type": "execute_result"
    },
    {
     "data": {
      "image/png": "[encoded data removed]",
      "text/plain": [
       "<Figure size 432x288 with 1 Axes>"
      ]
     },
     "metadata": {
      "needs_background": "light"
     },
     "output_type": "display_data"
    }
   ],
   "source": [
    "# Plot the results \n",
    "mean_rankings_male.plot.barh()"
   ]
  },
  {
   "cell_type": "code",
   "execution_count": 170,
   "metadata": {},
   "outputs": [
    {
     "data": {
      "text/plain": [
       "ranking_1    3.429293\n",
       "ranking_2    3.954660\n",
       "ranking_3    4.418136\n",
       "ranking_4    3.544081\n",
       "ranking_5    2.569270\n",
       "ranking_6    3.078086\n",
       "dtype: float64"
      ]
     },
     "execution_count": 170,
     "metadata": {},
     "output_type": "execute_result"
    }
   ],
   "source": [
    "# Finding mean of female rankings\n",
    "mean_rankings_female = females[females.columns[9:15]].mean()\n",
    "mean_rankings_female"
   ]
  },
  {
   "cell_type": "code",
   "execution_count": 171,
   "metadata": {},
   "outputs": [
    {
     "data": {
      "text/plain": [
       "<matplotlib.axes._subplots.AxesSubplot at 0x1ccf4e6e708>"
      ]
     },
     "execution_count": 171,
     "metadata": {},
     "output_type": "execute_result"
    },
    {
     "data": {
      "image/png": "[encoded data removed]",
      "text/plain": [
       "<Figure size 432x288 with 1 Axes>"
      ]
     },
     "metadata": {
      "needs_background": "light"
     },
     "output_type": "display_data"
    }
   ],
   "source": [
    "# Plot the results \n",
    "mean_rankings_female.plot.barh()"
   ]
  },
  {
   "cell_type": "markdown",
   "metadata": {},
   "source": [
    "If we compare the average rankings of males and those of both sexes combined, we can see that the only difference is that male fans of Star Wars rated the Episode IV A New Hope higher than Episode VI Return of the Jedi. \n",
    "\n",
    "Whereas female fans' average rankings are similar to those of both sexes combined: they favored the Episode V the most, and Episode III the least. "
   ]
  },
  {
   "cell_type": "markdown",
   "metadata": {},
   "source": [
    "Second step is to compute the the most viewed episodes among both segments and compare the results. "
   ]
  },
  {
   "cell_type": "code",
   "execution_count": 172,
   "metadata": {},
   "outputs": [
    {
     "data": {
      "text/plain": [
       "seen_1    361\n",
       "seen_2    323\n",
       "seen_3    317\n",
       "seen_4    342\n",
       "seen_5    392\n",
       "seen_6    387\n",
       "dtype: int64"
      ]
     },
     "execution_count": 172,
     "metadata": {},
     "output_type": "execute_result"
    }
   ],
   "source": [
    "# Finding mean values of each 'seen' column by men\n",
    "mean_seen_male = males[males.columns[3:9]].sum()\n",
    "mean_seen_male"
   ]
  },
  {
   "cell_type": "code",
   "execution_count": 173,
   "metadata": {},
   "outputs": [
    {
     "data": {
      "text/plain": [
       "<matplotlib.axes._subplots.AxesSubplot at 0x1ccf4ee9dc8>"
      ]
     },
     "execution_count": 173,
     "metadata": {},
     "output_type": "execute_result"
    },
    {
     "data": {
      "image/png": "[encoded data removed]",
      "text/plain": [
       "<Figure size 432x288 with 1 Axes>"
      ]
     },
     "metadata": {
      "needs_background": "light"
     },
     "output_type": "display_data"
    }
   ],
   "source": [
    "mean_seen_male.plot.bar()"
   ]
  },
  {
   "cell_type": "code",
   "execution_count": 174,
   "metadata": {},
   "outputs": [
    {
     "data": {
      "text/plain": [
       "seen_1    298\n",
       "seen_2    237\n",
       "seen_3    222\n",
       "seen_4    255\n",
       "seen_5    353\n",
       "seen_6    338\n",
       "dtype: int64"
      ]
     },
     "execution_count": 174,
     "metadata": {},
     "output_type": "execute_result"
    }
   ],
   "source": [
    "# Finding mean values of each 'seen' column by women\n",
    "mean_seen_female = females[females.columns[3:9]].sum()\n",
    "mean_seen_female"
   ]
  },
  {
   "cell_type": "code",
   "execution_count": 175,
   "metadata": {},
   "outputs": [
    {
     "data": {
      "text/plain": [
       "<matplotlib.axes._subplots.AxesSubplot at 0x1ccf4f67a88>"
      ]
     },
     "execution_count": 175,
     "metadata": {},
     "output_type": "execute_result"
    },
    {
     "data": {
      "image/png": "[encoded data removed]",
      "text/plain": [
       "<Figure size 432x288 with 1 Axes>"
      ]
     },
     "metadata": {
      "needs_background": "light"
     },
     "output_type": "display_data"
    }
   ],
   "source": [
    "mean_seen_female.plot.bar()"
   ]
  },
  {
   "cell_type": "markdown",
   "metadata": {},
   "source": [
    "While comparing the results we've noticed that men, women and both combined follow the same pattern from most watched episode to least in the following order: V, VI, I, IV, II, and III. "
   ]
  },
  {
   "cell_type": "markdown",
   "metadata": {},
   "source": [
    "## Further Analysis \n",
    "\n",
    "### Segment the data based on a non-binary column\n",
    "\n",
    "We will try to segment the data based on a column `Which character shot first?`, which isn't binary and figure out if there's any interesting patterns. "
   ]
  },
  {
   "cell_type": "code",
   "execution_count": 176,
   "metadata": {},
   "outputs": [
    {
     "data": {
      "text/plain": [
       "NaN                                 358\n",
       "Han                                 325\n",
       "I don't understand this question    306\n",
       "Greedo                              197\n",
       "Name: Which character shot first?, dtype: int64"
      ]
     },
     "execution_count": 176,
     "metadata": {},
     "output_type": "execute_result"
    }
   ],
   "source": [
    "star_wars['Which character shot first?'].value_counts(dropna=False)"
   ]
  },
  {
   "cell_type": "code",
   "execution_count": 177,
   "metadata": {},
   "outputs": [],
   "source": [
    "# We will fill in the missing values with 'I dont understand this question'\n",
    "star_wars['Which character shot first?'] = star_wars['Which character shot first?'].fillna(\"I don't understand this question\")"
   ]
  },
  {
   "cell_type": "code",
   "execution_count": 178,
   "metadata": {},
   "outputs": [
    {
     "data": {
      "text/plain": [
       "I don't understand this question    664\n",
       "Han                                 325\n",
       "Greedo                              197\n",
       "Name: Which character shot first?, dtype: int64"
      ]
     },
     "execution_count": 178,
     "metadata": {},
     "output_type": "execute_result"
    }
   ],
   "source": [
    "shot_first = star_wars['Which character shot first?'].value_counts(dropna=False)\n",
    "shot_first"
   ]
  },
  {
   "cell_type": "code",
   "execution_count": 179,
   "metadata": {},
   "outputs": [
    {
     "data": {
      "text/plain": [
       "<matplotlib.axes._subplots.AxesSubplot at 0x1ccf4fda648>"
      ]
     },
     "execution_count": 179,
     "metadata": {},
     "output_type": "execute_result"
    },
    {
     "data": {
      "image/png": "[encoded data removed]",
      "text/plain": [
       "<Figure size 432x288 with 1 Axes>"
      ]
     },
     "metadata": {
      "needs_background": "light"
     },
     "output_type": "display_data"
    }
   ],
   "source": [
    "# Plotting the results on a bar plot\n",
    "shot_first.plot.barh()"
   ]
  },
  {
   "cell_type": "markdown",
   "metadata": {},
   "source": [
    "Aside from people who didn't understand the question or left the qustion blank, the fans are divided into two camps `Greedo` and `Han`. \n",
    "\n",
    "The majority thinks Han shot first. \"Han shot first\" refers to a controversial change made to a scene, in which Han Solo (Harrison Ford) is confronted by the bounty hunter Greedo (Paul Blake) in the Mos Eisley cantina. In the original version of the scene, Han shoots Greedo dead.\n",
    "\n",
    "However, some of the fans are still not convinced, and think Greedo was the one who shot first. "
   ]
  },
  {
   "cell_type": "markdown",
   "metadata": {},
   "source": [
    "### Clean up columns 15 to 29 \n",
    "\n",
    "We'll clean up columns `15` to `29`, which contain data on the characters respondents view favorably and unfavorably, and try to answer the following quesions: \n",
    "\n",
    " - Which character do respondents like the most?\n",
    " - Which character do respondents dislike the most?\n",
    " - Which character is the most controversial (split between likes and dislikes)?"
   ]
  },
  {
   "cell_type": "code",
   "execution_count": 180,
   "metadata": {},
   "outputs": [
    {
     "data": {
      "text/html": [
       "<div>\n",
       "<style scoped>\n",
       "    .dataframe tbody tr th:only-of-type {\n",
       "        vertical-align: middle;\n",
       "    }\n",
       "\n",
       "    .dataframe tbody tr th {\n",
       "        vertical-align: top;\n",
       "    }\n",
       "\n",
       "    .dataframe thead th {\n",
       "        text-align: right;\n",
       "    }\n",
       "</style>\n",
       "<table border=\"1\" class=\"dataframe\">\n",
       "  <thead>\n",
       "    <tr style=\"text-align: right;\">\n",
       "      <th></th>\n",
       "      <th>Please state whether you view the following characters favorably, unfavorably, or are unfamiliar with him/her.</th>\n",
       "      <th>Unnamed: 16</th>\n",
       "      <th>Unnamed: 17</th>\n",
       "      <th>Unnamed: 18</th>\n",
       "      <th>Unnamed: 19</th>\n",
       "      <th>Unnamed: 20</th>\n",
       "      <th>Unnamed: 21</th>\n",
       "      <th>Unnamed: 22</th>\n",
       "      <th>Unnamed: 23</th>\n",
       "      <th>Unnamed: 24</th>\n",
       "      <th>Unnamed: 25</th>\n",
       "      <th>Unnamed: 26</th>\n",
       "      <th>Unnamed: 27</th>\n",
       "      <th>Unnamed: 28</th>\n",
       "    </tr>\n",
       "  </thead>\n",
       "  <tbody>\n",
       "    <tr>\n",
       "      <th>1</th>\n",
       "      <td>Very favorably</td>\n",
       "      <td>Very favorably</td>\n",
       "      <td>Very favorably</td>\n",
       "      <td>Very favorably</td>\n",
       "      <td>Very favorably</td>\n",
       "      <td>Very favorably</td>\n",
       "      <td>Very favorably</td>\n",
       "      <td>Unfamiliar (N/A)</td>\n",
       "      <td>Unfamiliar (N/A)</td>\n",
       "      <td>Very favorably</td>\n",
       "      <td>Very favorably</td>\n",
       "      <td>Very favorably</td>\n",
       "      <td>Very favorably</td>\n",
       "      <td>Very favorably</td>\n",
       "    </tr>\n",
       "    <tr>\n",
       "      <th>2</th>\n",
       "      <td>NaN</td>\n",
       "      <td>NaN</td>\n",
       "      <td>NaN</td>\n",
       "      <td>NaN</td>\n",
       "      <td>NaN</td>\n",
       "      <td>NaN</td>\n",
       "      <td>NaN</td>\n",
       "      <td>NaN</td>\n",
       "      <td>NaN</td>\n",
       "      <td>NaN</td>\n",
       "      <td>NaN</td>\n",
       "      <td>NaN</td>\n",
       "      <td>NaN</td>\n",
       "      <td>NaN</td>\n",
       "    </tr>\n",
       "    <tr>\n",
       "      <th>3</th>\n",
       "      <td>Somewhat favorably</td>\n",
       "      <td>Somewhat favorably</td>\n",
       "      <td>Somewhat favorably</td>\n",
       "      <td>Somewhat favorably</td>\n",
       "      <td>Somewhat favorably</td>\n",
       "      <td>Unfamiliar (N/A)</td>\n",
       "      <td>Unfamiliar (N/A)</td>\n",
       "      <td>Unfamiliar (N/A)</td>\n",
       "      <td>Unfamiliar (N/A)</td>\n",
       "      <td>Unfamiliar (N/A)</td>\n",
       "      <td>Unfamiliar (N/A)</td>\n",
       "      <td>Unfamiliar (N/A)</td>\n",
       "      <td>Unfamiliar (N/A)</td>\n",
       "      <td>Unfamiliar (N/A)</td>\n",
       "    </tr>\n",
       "    <tr>\n",
       "      <th>4</th>\n",
       "      <td>Very favorably</td>\n",
       "      <td>Very favorably</td>\n",
       "      <td>Very favorably</td>\n",
       "      <td>Very favorably</td>\n",
       "      <td>Very favorably</td>\n",
       "      <td>Somewhat favorably</td>\n",
       "      <td>Very favorably</td>\n",
       "      <td>Somewhat favorably</td>\n",
       "      <td>Somewhat unfavorably</td>\n",
       "      <td>Very favorably</td>\n",
       "      <td>Very favorably</td>\n",
       "      <td>Very favorably</td>\n",
       "      <td>Very favorably</td>\n",
       "      <td>Very favorably</td>\n",
       "    </tr>\n",
       "    <tr>\n",
       "      <th>5</th>\n",
       "      <td>Very favorably</td>\n",
       "      <td>Somewhat favorably</td>\n",
       "      <td>Somewhat favorably</td>\n",
       "      <td>Somewhat unfavorably</td>\n",
       "      <td>Very favorably</td>\n",
       "      <td>Very unfavorably</td>\n",
       "      <td>Somewhat favorably</td>\n",
       "      <td>Neither favorably nor unfavorably (neutral)</td>\n",
       "      <td>Very favorably</td>\n",
       "      <td>Somewhat favorably</td>\n",
       "      <td>Somewhat favorably</td>\n",
       "      <td>Very unfavorably</td>\n",
       "      <td>Somewhat favorably</td>\n",
       "      <td>Somewhat favorably</td>\n",
       "    </tr>\n",
       "    <tr>\n",
       "      <th>...</th>\n",
       "      <td>...</td>\n",
       "      <td>...</td>\n",
       "      <td>...</td>\n",
       "      <td>...</td>\n",
       "      <td>...</td>\n",
       "      <td>...</td>\n",
       "      <td>...</td>\n",
       "      <td>...</td>\n",
       "      <td>...</td>\n",
       "      <td>...</td>\n",
       "      <td>...</td>\n",
       "      <td>...</td>\n",
       "      <td>...</td>\n",
       "      <td>...</td>\n",
       "    </tr>\n",
       "    <tr>\n",
       "      <th>1182</th>\n",
       "      <td>Very favorably</td>\n",
       "      <td>Somewhat favorably</td>\n",
       "      <td>Somewhat favorably</td>\n",
       "      <td>Somewhat favorably</td>\n",
       "      <td>Very favorably</td>\n",
       "      <td>Somewhat favorably</td>\n",
       "      <td>Somewhat favorably</td>\n",
       "      <td>Somewhat favorably</td>\n",
       "      <td>Somewhat favorably</td>\n",
       "      <td>Very favorably</td>\n",
       "      <td>Very favorably</td>\n",
       "      <td>Somewhat favorably</td>\n",
       "      <td>Somewhat favorably</td>\n",
       "      <td>Very favorably</td>\n",
       "    </tr>\n",
       "    <tr>\n",
       "      <th>1183</th>\n",
       "      <td>Very favorably</td>\n",
       "      <td>Somewhat favorably</td>\n",
       "      <td>Very favorably</td>\n",
       "      <td>Somewhat unfavorably</td>\n",
       "      <td>Very favorably</td>\n",
       "      <td>Neither favorably nor unfavorably (neutral)</td>\n",
       "      <td>Very unfavorably</td>\n",
       "      <td>Somewhat favorably</td>\n",
       "      <td>Unfamiliar (N/A)</td>\n",
       "      <td>Somewhat favorably</td>\n",
       "      <td>Very favorably</td>\n",
       "      <td>Somewhat unfavorably</td>\n",
       "      <td>Somewhat unfavorably</td>\n",
       "      <td>Very favorably</td>\n",
       "    </tr>\n",
       "    <tr>\n",
       "      <th>1184</th>\n",
       "      <td>NaN</td>\n",
       "      <td>NaN</td>\n",
       "      <td>NaN</td>\n",
       "      <td>NaN</td>\n",
       "      <td>NaN</td>\n",
       "      <td>NaN</td>\n",
       "      <td>NaN</td>\n",
       "      <td>NaN</td>\n",
       "      <td>NaN</td>\n",
       "      <td>NaN</td>\n",
       "      <td>NaN</td>\n",
       "      <td>NaN</td>\n",
       "      <td>NaN</td>\n",
       "      <td>NaN</td>\n",
       "    </tr>\n",
       "    <tr>\n",
       "      <th>1185</th>\n",
       "      <td>Very favorably</td>\n",
       "      <td>Neither favorably nor unfavorably (neutral)</td>\n",
       "      <td>Very favorably</td>\n",
       "      <td>Very favorably</td>\n",
       "      <td>Very favorably</td>\n",
       "      <td>Neither favorably nor unfavorably (neutral)</td>\n",
       "      <td>Very favorably</td>\n",
       "      <td>Somewhat favorably</td>\n",
       "      <td>Very favorably</td>\n",
       "      <td>Somewhat favorably</td>\n",
       "      <td>Somewhat favorably</td>\n",
       "      <td>Very favorably</td>\n",
       "      <td>Somewhat favorably</td>\n",
       "      <td>Very favorably</td>\n",
       "    </tr>\n",
       "    <tr>\n",
       "      <th>1186</th>\n",
       "      <td>Very favorably</td>\n",
       "      <td>Very favorably</td>\n",
       "      <td>Very favorably</td>\n",
       "      <td>Very unfavorably</td>\n",
       "      <td>Very favorably</td>\n",
       "      <td>Very unfavorably</td>\n",
       "      <td>Very favorably</td>\n",
       "      <td>Very unfavorably</td>\n",
       "      <td>Unfamiliar (N/A)</td>\n",
       "      <td>Somewhat favorably</td>\n",
       "      <td>Somewhat favorably</td>\n",
       "      <td>Very unfavorably</td>\n",
       "      <td>Neither favorably nor unfavorably (neutral)</td>\n",
       "      <td>Very unfavorably</td>\n",
       "    </tr>\n",
       "  </tbody>\n",
       "</table>\n",
       "<p>1186 rows × 14 columns</p>\n",
       "</div>"
      ],
      "text/plain": [
       "     Please state whether you view the following characters favorably, unfavorably, or are unfamiliar with him/her.  \\\n",
       "1                                        Very favorably                                                               \n",
       "2                                                   NaN                                                               \n",
       "3                                    Somewhat favorably                                                               \n",
       "4                                        Very favorably                                                               \n",
       "5                                        Very favorably                                                               \n",
       "...                                                 ...                                                               \n",
       "1182                                     Very favorably                                                               \n",
       "1183                                     Very favorably                                                               \n",
       "1184                                                NaN                                                               \n",
       "1185                                     Very favorably                                                               \n",
       "1186                                     Very favorably                                                               \n",
       "\n",
       "                                      Unnamed: 16         Unnamed: 17  \\\n",
       "1                                  Very favorably      Very favorably   \n",
       "2                                             NaN                 NaN   \n",
       "3                              Somewhat favorably  Somewhat favorably   \n",
       "4                                  Very favorably      Very favorably   \n",
       "5                              Somewhat favorably  Somewhat favorably   \n",
       "...                                           ...                 ...   \n",
       "1182                           Somewhat favorably  Somewhat favorably   \n",
       "1183                           Somewhat favorably      Very favorably   \n",
       "1184                                          NaN                 NaN   \n",
       "1185  Neither favorably nor unfavorably (neutral)      Very favorably   \n",
       "1186                               Very favorably      Very favorably   \n",
       "\n",
       "               Unnamed: 18         Unnamed: 19  \\\n",
       "1           Very favorably      Very favorably   \n",
       "2                      NaN                 NaN   \n",
       "3       Somewhat favorably  Somewhat favorably   \n",
       "4           Very favorably      Very favorably   \n",
       "5     Somewhat unfavorably      Very favorably   \n",
       "...                    ...                 ...   \n",
       "1182    Somewhat favorably      Very favorably   \n",
       "1183  Somewhat unfavorably      Very favorably   \n",
       "1184                   NaN                 NaN   \n",
       "1185        Very favorably      Very favorably   \n",
       "1186      Very unfavorably      Very favorably   \n",
       "\n",
       "                                      Unnamed: 20         Unnamed: 21  \\\n",
       "1                                  Very favorably      Very favorably   \n",
       "2                                             NaN                 NaN   \n",
       "3                                Unfamiliar (N/A)    Unfamiliar (N/A)   \n",
       "4                              Somewhat favorably      Very favorably   \n",
       "5                                Very unfavorably  Somewhat favorably   \n",
       "...                                           ...                 ...   \n",
       "1182                           Somewhat favorably  Somewhat favorably   \n",
       "1183  Neither favorably nor unfavorably (neutral)    Very unfavorably   \n",
       "1184                                          NaN                 NaN   \n",
       "1185  Neither favorably nor unfavorably (neutral)      Very favorably   \n",
       "1186                             Very unfavorably      Very favorably   \n",
       "\n",
       "                                      Unnamed: 22           Unnamed: 23  \\\n",
       "1                                Unfamiliar (N/A)      Unfamiliar (N/A)   \n",
       "2                                             NaN                   NaN   \n",
       "3                                Unfamiliar (N/A)      Unfamiliar (N/A)   \n",
       "4                              Somewhat favorably  Somewhat unfavorably   \n",
       "5     Neither favorably nor unfavorably (neutral)        Very favorably   \n",
       "...                                           ...                   ...   \n",
       "1182                           Somewhat favorably    Somewhat favorably   \n",
       "1183                           Somewhat favorably      Unfamiliar (N/A)   \n",
       "1184                                          NaN                   NaN   \n",
       "1185                           Somewhat favorably        Very favorably   \n",
       "1186                             Very unfavorably      Unfamiliar (N/A)   \n",
       "\n",
       "             Unnamed: 24         Unnamed: 25           Unnamed: 26  \\\n",
       "1         Very favorably      Very favorably        Very favorably   \n",
       "2                    NaN                 NaN                   NaN   \n",
       "3       Unfamiliar (N/A)    Unfamiliar (N/A)      Unfamiliar (N/A)   \n",
       "4         Very favorably      Very favorably        Very favorably   \n",
       "5     Somewhat favorably  Somewhat favorably      Very unfavorably   \n",
       "...                  ...                 ...                   ...   \n",
       "1182      Very favorably      Very favorably    Somewhat favorably   \n",
       "1183  Somewhat favorably      Very favorably  Somewhat unfavorably   \n",
       "1184                 NaN                 NaN                   NaN   \n",
       "1185  Somewhat favorably  Somewhat favorably        Very favorably   \n",
       "1186  Somewhat favorably  Somewhat favorably      Very unfavorably   \n",
       "\n",
       "                                      Unnamed: 27         Unnamed: 28  \n",
       "1                                  Very favorably      Very favorably  \n",
       "2                                             NaN                 NaN  \n",
       "3                                Unfamiliar (N/A)    Unfamiliar (N/A)  \n",
       "4                                  Very favorably      Very favorably  \n",
       "5                              Somewhat favorably  Somewhat favorably  \n",
       "...                                           ...                 ...  \n",
       "1182                           Somewhat favorably      Very favorably  \n",
       "1183                         Somewhat unfavorably      Very favorably  \n",
       "1184                                          NaN                 NaN  \n",
       "1185                           Somewhat favorably      Very favorably  \n",
       "1186  Neither favorably nor unfavorably (neutral)    Very unfavorably  \n",
       "\n",
       "[1186 rows x 14 columns]"
      ]
     },
     "execution_count": 180,
     "metadata": {},
     "output_type": "execute_result"
    }
   ],
   "source": [
    "star_wars[star_wars.columns[15:29]]"
   ]
  },
  {
   "cell_type": "markdown",
   "metadata": {},
   "source": [
    "First step is to change the column names to the respective characters: \n",
    "\n",
    "- `Please state whether you view the following characters favorably, unfavorably, or are unfamiliar with him/her.: Han Solo`\n",
    "- `Unnamed: 16 : Luke Skywalker`\n",
    "- `Unnamed: 17 : Princess Leia Organa` \n",
    "- `Unnamed: 18 : Anakin Skywalker` \n",
    "- `Unnamed: 19 : Obi Wan Kenobi` \n",
    "- `Unnamed: 20 : Emperor Palpatine` \n",
    "- `Unnamed: 21 : Darth Vader` \n",
    "- `Unnamed: 22 : Lando Calrissian` \n",
    "- `Unnamed: 23 : Boba Fett` \n",
    "- `Unnamed: 24 : C-3PO` \n",
    "- `Unnamed: 25 : R2D2` \n",
    "- `Unnamed: 26 : Jar Jar Binks` \n",
    "- `Unnamed: 27 : Padme Amidala` \n",
    "- `Unnamed: 28 : Yoda` "
   ]
  },
  {
   "cell_type": "code",
   "execution_count": 181,
   "metadata": {},
   "outputs": [
    {
     "data": {
      "text/plain": [
       "Index(['Han Solo', 'Luke Skywalker', 'Princess Leia Organa',\n",
       "       'Anakin Skywalker', 'Obi Wan Kenobi', 'Emperor Palpatine',\n",
       "       'Darth Vader', 'Lando Calrissian', 'Boba Fett', 'C-3PO', 'R2D2',\n",
       "       'Jar Jar Binks', 'Padme Amidala', 'Yoda'],\n",
       "      dtype='object')"
      ]
     },
     "execution_count": 181,
     "metadata": {},
     "output_type": "execute_result"
    }
   ],
   "source": [
    "star_wars = star_wars.rename(columns={'Please state whether you view the following characters favorably, unfavorably, or are unfamiliar with him/her.': 'Han Solo',\n",
    "                                      'Unnamed: 16': 'Luke Skywalker',\n",
    "                                      'Unnamed: 17': 'Princess Leia Organa',\n",
    "                                      'Unnamed: 18': 'Anakin Skywalker',\n",
    "                                      'Unnamed: 19': 'Obi Wan Kenobi',\n",
    "                                      'Unnamed: 20': 'Emperor Palpatine',\n",
    "                                      'Unnamed: 21': 'Darth Vader',\n",
    "                                      'Unnamed: 22': 'Lando Calrissian',\n",
    "                                      'Unnamed: 23': 'Boba Fett',\n",
    "                                      'Unnamed: 24': 'C-3PO',\n",
    "                                      'Unnamed: 25': 'R2D2',\n",
    "                                      'Unnamed: 26': 'Jar Jar Binks', \n",
    "                                      'Unnamed: 27': 'Padme Amidala',\n",
    "                                      'Unnamed: 28': 'Yoda'})\n",
    "star_wars.columns[15:29]"
   ]
  },
  {
   "cell_type": "markdown",
   "metadata": {},
   "source": [
    "Next, we need to find out how many unique choices the respondets were given to measure the favorability of a given character."
   ]
  },
  {
   "cell_type": "code",
   "execution_count": 182,
   "metadata": {},
   "outputs": [
    {
     "data": {
      "text/plain": [
       "Very favorably                                 610\n",
       "NaN                                            357\n",
       "Somewhat favorably                             151\n",
       "Neither favorably nor unfavorably (neutral)     44\n",
       "Unfamiliar (N/A)                                15\n",
       "Somewhat unfavorably                             8\n",
       "Very unfavorably                                 1\n",
       "Name: Han Solo, dtype: int64"
      ]
     },
     "execution_count": 182,
     "metadata": {},
     "output_type": "execute_result"
    }
   ],
   "source": [
    "star_wars['Han Solo'].value_counts(dropna=False)"
   ]
  },
  {
   "cell_type": "markdown",
   "metadata": {},
   "source": [
    "In order to identify the most/least favorite character, we would have to transfrom the string values into numeric ones to be able to measure them. Therefore, we will map the value in series to numeric values in a such a way: \n",
    "\n",
    "- `Very favorably` would be aasigned to the numeric value of 2, which is the highest among all \n",
    "- `Somewhat favorably` would be assigned to the numeric value of 1, which is the second highest \n",
    "- `Neither favorably nor unfavorably (neutral)`, `Unfamiliar (N/A)` both would be assigned to the value of 0 since neither express (un)/favorability. \n",
    "- `Somewhat unfavorably` would be assigned to the value of -1, so when we count the total values the points will be deducted from a least favorable character \n",
    "- `Very unfavorably` would be assigned to the value of -2."
   ]
  },
  {
   "cell_type": "code",
   "execution_count": 183,
   "metadata": {},
   "outputs": [],
   "source": [
    "# Create a new dictionary to define a mapping from each value in series \n",
    "# to a new value \n",
    "\n",
    "char_dict = {\n",
    "    'Very favorably': 2, \n",
    "    'Somewhat favorably': 1,\n",
    "    'Neither favorably nor unfavorably (neutral)': 0, \n",
    "    'Unfamiliar (N/A)': 0, \n",
    "    'Somewhat unfavorably': -1, \n",
    "    'Very unfavorably': -2, \n",
    "    np.NaN: 0\n",
    "} \n",
    "\n",
    "# Pass the dictionary and call map() method on each column\n",
    "\n",
    "for col in star_wars.columns[15:29]: \n",
    "    star_wars[col] = star_wars[col].map(char_dict)\n"
   ]
  },
  {
   "cell_type": "code",
   "execution_count": 186,
   "metadata": {},
   "outputs": [
    {
     "data": {
      "text/plain": [
       "Jar Jar Binks           -156\n",
       "Emperor Palpatine         47\n",
       "Boba Fett                243\n",
       "Darth Vader              391\n",
       "Padme Amidala            393\n",
       "Lando Calrissian         428\n",
       "Anakin Skywalker         598\n",
       "C-3PO                   1140\n",
       "Princess Leia Organa    1280\n",
       "R2D2                    1287\n",
       "Luke Skywalker          1304\n",
       "Obi Wan Kenobi          1319\n",
       "Yoda                    1330\n",
       "Han Solo                1361\n",
       "dtype: int64"
      ]
     },
     "execution_count": 186,
     "metadata": {},
     "output_type": "execute_result"
    }
   ],
   "source": [
    "# Calculate the total count \n",
    "characters_count = star_wars[star_wars.columns[15:29]].sum().sort_values(ascending=True)\n",
    "characters_count"
   ]
  },
  {
   "cell_type": "code",
   "execution_count": 187,
   "metadata": {},
   "outputs": [
    {
     "data": {
      "text/plain": [
       "<matplotlib.axes._subplots.AxesSubplot at 0x1ccf50cc808>"
      ]
     },
     "execution_count": 187,
     "metadata": {},
     "output_type": "execute_result"
    },
    {
     "data": {
      "image/png": "[encoded data removed]",
      "text/plain": [
       "<Figure size 432x288 with 1 Axes>"
      ]
     },
     "metadata": {
      "needs_background": "light"
     },
     "output_type": "display_data"
    }
   ],
   "source": [
    "# Plot the final results \n",
    "characters_count.plot.barh()"
   ]
  },
  {
   "cell_type": "markdown",
   "metadata": {},
   "source": [
    "As our bar plot demonstrates, `Han Solo`, `Yoda`, and `Obi Wan Kenobi` are the most favorable in the eyes of the fans of the franchise. Apparently, `Jar Jar Binks` is the least favorable character in Star Wars series and it's the only character that managed to get negative points. "
   ]
  }
 ],
 "metadata": {
  "kernelspec": {
   "display_name": "Python 3",
   "language": "python",
   "name": "python3"
  },
  "language_info": {
   "codemirror_mode": {
    "name": "ipython",
    "version": 3
   },
   "file_extension": ".py",
   "mimetype": "text/x-python",
   "name": "python",
   "nbconvert_exporter": "python",
   "pygments_lexer": "ipython3",
   "version": "3.7.6"
  }
 },
 "nbformat": 4,
 "nbformat_minor": 1
}
